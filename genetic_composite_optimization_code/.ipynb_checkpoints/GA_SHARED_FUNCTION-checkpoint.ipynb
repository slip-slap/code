{
 "cells": [
  {
   "cell_type": "code",
   "execution_count": 2,
   "metadata": {},
   "outputs": [],
   "source": [
    "%matplotlib inline\n",
    "\n",
    "import matplotlib\n",
    "import numpy as np\n",
    "import matplotlib.pyplot as plt\n",
    "import copy\n",
    "import operator"
   ]
  },
  {
   "cell_type": "code",
   "execution_count": 4,
   "metadata": {},
   "outputs": [],
   "source": [
    "# check is the same point\n",
    "def is_same_niche(a,b):\n",
    "    #function_period = 2*np.pi/(2*5.1*np.pi)\n",
    "    distance = np.abs(a-b)\n",
    "    \n",
    "    if distance < NICHE_RADIUS: #0.5*function_period:\n",
    "        return True\n",
    "    else:\n",
    "        return False\n",
    "# this method is used to delete repeat points\n",
    "def delete_repeat_niche(points):\n",
    "    if len(points) == 1:\n",
    "        return points\n",
    "    elif len(points) == 0:\n",
    "        return points\n",
    "    back_up = []\n",
    "    back_up.append(points.pop())\n",
    "    while len(points) != 0:\n",
    "        current_point = points.pop()\n",
    "        check_value = []\n",
    "    \n",
    "        for i in range(len(back_up)):\n",
    "        #check distance between current points and previous points\n",
    "            temp_flag = is_same_niche(back_up[i],current_point)\n",
    "            check_value.append(str(temp_flag))\n",
    "    \n",
    "        if 'True' in check_value:\n",
    "            pass\n",
    "        else:\n",
    "            back_up.append(current_point)\n",
    "    return back_up"
   ]
  },
  {
   "cell_type": "code",
   "execution_count": 16,
   "metadata": {},
   "outputs": [],
   "source": [
    "def share_function(metric_d):\n",
    "    # constants sigma share and alpha \n",
    "    #sigma_share = 0.2\n",
    "    #alpha = 1\n",
    "    \n",
    "    if metric_d < NICHE_RADIUS:\n",
    "        share = 1 - np.power(metric_d/NICHE_RADIUS, NICHE_ALPHA_SHARE)\n",
    "    else:\n",
    "        share = 0\n",
    "    return share"
   ]
  },
  {
   "cell_type": "code",
   "execution_count": 7,
   "metadata": {},
   "outputs": [],
   "source": [
    "def share_fitness(population, fitness):\n",
    "    niche_count = niche_count_m(population)\n",
    "    if niche_count != 0:\n",
    "        shared_fitness = np.divide(fitness, niche_count)\n",
    "    #shared_fitness = np.divide(niche_count, fitness)\n",
    "    return shared_fitness"
   ]
  },
  {
   "cell_type": "code",
   "execution_count": 8,
   "metadata": {},
   "outputs": [],
   "source": [
    "def niche_count_m(population):\n",
    "    population_decimal = binary2decimal_batch(population)\n",
    "    niche_count_m = []\n",
    "    for i in range(len(population_decimal)):\n",
    "        niche_count_m_individual = 0\n",
    "        current_string = population_decimal[i]\n",
    "        population_decimal_image = copy.deepcopy(population_decimal)\n",
    "        population_decimal_image.remove(population_decimal_image[i])\n",
    "        for j in range(len(population_decimal_image)):\n",
    "            niche_count_m_individual += share_function(metric_space(current_string,population_decimal_image[j]))\n",
    "        niche_count_m.append(niche_count_m_individual)\n",
    "    return niche_count_m"
   ]
  },
  {
   "cell_type": "code",
   "execution_count": 9,
   "metadata": {},
   "outputs": [],
   "source": [
    "def metric_space(x_i, x_j):\n",
    "    #basic_D = np.sqrt(np.abs(x_i - x_j))\n",
    "    dual_D = np.abs(x_i - x_j)\n",
    "    #basic_D_metric = np.power(basic_D,1)\n",
    "    #dual_D_metric = np.power(dual_D,0)\n",
    "    #return np.multiply(basic_D_metric,dual_D_metric)\n",
    "    return dual_D"
   ]
  },
  {
   "cell_type": "code",
   "execution_count": 10,
   "metadata": {},
   "outputs": [],
   "source": [
    "def select_mating_pool(pop, fitness, num_parents):\n",
    "    fitness_copy = copy.deepcopy(fitness)\n",
    "    # Selecting the best individuals in the current generation as parents for producing the offspring of the next generation.\n",
    "    parents = np.empty((num_parents, pop.shape[1]))\n",
    "    for parent_num in range(num_parents):\n",
    "        # return data type is tuple\n",
    "        max_fitness_idx = np.where(fitness_copy == np.max(fitness_copy))\n",
    "        max_fitness_idx = max_fitness_idx[0][0]\n",
    "        parents[parent_num, :] = pop[max_fitness_idx, :]\n",
    "        fitness_copy[max_fitness_idx] = -99999999999\n",
    "    return parents\n",
    "\n",
    "def crossover(parents, offspring_size):\n",
    "    offspring = np.empty(offspring_size)\n",
    "    # The point at which crossover takes place between two parents. Usually, it is at the center.\n",
    "    crossover_point = np.uint8(offspring_size[1]/2)\n",
    "\n",
    "    for k in range(offspring_size[0]):\n",
    "        # Index of the first parent to mate.\n",
    "        parent1_idx = k%parents.shape[0]\n",
    "        # Index of the second parent to mate.\n",
    "        parent2_idx = (k+1)%parents.shape[0]\n",
    "        # The new offspring will have its first half of its genes taken from the first parent.\n",
    "        offspring[k, 0:crossover_point] = parents[parent1_idx, 0:crossover_point]\n",
    "        # The new offspring will have its second half of its genes taken from the second parent.\n",
    "        offspring[k, crossover_point:] = parents[parent2_idx, crossover_point:]\n",
    "    return offspring\n",
    "def mutation(offspring_crossover):\n",
    "    for idx in range(offspring_crossover.shape[0]):\n",
    "        # The random value to be added to the gene.\n",
    "        weight_max = 2\n",
    "        weight_min = -2\n",
    "        mutation_constant = 0.8\n",
    "        for i in range(offspring_crossover.shape[1]):\n",
    "            pos = np.random.randint(0,100,1)%2\n",
    "            if np.random.randint(0,4,1)%2 == 0:\n",
    "                offspring_crossover[idx,pos]=offspring_crossover[idx,pos]+mutation_constant*(weight_max-offspring_crossover[idx,pos])*np.random.random()\n",
    "            else:\n",
    "                offspring_crossover[idx,pos]=offspring_crossover[idx,pos]-mutation_constant*(offspring_crossover[idx,pos]-weight_min)*np.random.random()\n",
    "    return offspring_crossover\n",
    "def get_individual_fitness(individual):\n",
    "    decimal_value = binary2domain(individual)\n",
    "    #temp = np.sin(5.1*np.pi*decimal_value+0.5)\n",
    "    temp = np.cos(5.1*np.pi*decimal_value+0.5)\n",
    "    fitness = np.power(temp,6)\n",
    "    return fitness\n",
    "def get_individual_fitness_decimal(individual):\n",
    "    #temp = np.sin(5.1*np.pi*individual+0.5)\n",
    "    temp = np.cos(5.1*np.pi*individual+0.5)\n",
    "    fitness = np.power(temp,6)\n",
    "    return fitness\n",
    "\n",
    "def get_population_fitness(population):\n",
    "    fitness = []\n",
    "    for i in range(population.shape[0]):\n",
    "        temp = get_individual_fitness(population[i])\n",
    "        fitness.append(temp)\n",
    "    return fitness"
   ]
  },
  {
   "cell_type": "code",
   "execution_count": 11,
   "metadata": {},
   "outputs": [],
   "source": [
    "def target_function2(decimal_value):\n",
    "    step1 = np.power(decimal_value-0.0667,2)\n",
    "    step2 = np.divide(step1,0.64)\n",
    "    step3 = np.multiply(step2,-4*np.log(2))\n",
    "    step3 = np.power(np.e,step3)\n",
    "    return np.multiply(get_individual_fitness_decimal(decimal_value),step3)"
   ]
  },
  {
   "cell_type": "code",
   "execution_count": null,
   "metadata": {},
   "outputs": [],
   "source": [
    "\"\"\"\n",
    "fig = plt.figure(111)\n",
    "axes1 = fig.add_subplot(111)\n",
    "x = np.arange(0,1,0.01)\n",
    "y = list(map(lambda i: target_function2(i),x))\n",
    "axes1.plot(x,y)\n",
    "\"\"\""
   ]
  },
  {
   "cell_type": "code",
   "execution_count": 12,
   "metadata": {},
   "outputs": [],
   "source": [
    "def binary2decimal(chromesome):\n",
    "    decimal = 0\n",
    "    length = len(chromesome)\n",
    "    for i in range(length):\n",
    "        decimal = decimal + chromesome[i]*np.power(2,length-i-1)\n",
    "    return decimal\n",
    "def binary2domain(chromesome):\n",
    "    decimal = binary2decimal(chromesome)\n",
    "    #embedding_value = (1+decimal)/np.power(2,15) - 1\n",
    "    embedding_value = (1+decimal)/np.power(2,16)\n",
    "    return embedding_value"
   ]
  },
  {
   "cell_type": "code",
   "execution_count": 13,
   "metadata": {},
   "outputs": [],
   "source": [
    "def binary2decimal_batch(population):\n",
    "    decimal_batch = []\n",
    "    for i in range(population.shape[0]):\n",
    "        decimal = binary2domain(population[i].tolist())\n",
    "        decimal_batch.append(decimal)\n",
    "    return decimal_batch"
   ]
  },
  {
   "cell_type": "code",
   "execution_count": null,
   "metadata": {},
   "outputs": [],
   "source": [
    "# Criterion \n",
    "APPARENT_RELIABILITY = 0\n",
    "AVERAGE_OPTIMAL_NUMBER = 0\n",
    "NORMALIZED_COST = 0\n",
    "POPULATION_RICHNESS = 0\n",
    "NICHE_NUMBER = 0"
   ]
  },
  {
   "cell_type": "code",
   "execution_count": 14,
   "metadata": {},
   "outputs": [],
   "source": [
    "def getBestOutputNumber(population):\n",
    "    #fitness = list(set(fitness))\n",
    "    #best_individual_index_tuple = np.where(np.array(fitness)>0.8)\n",
    "    #best_individual_index_array = best_individual_index_tuple[0]\n",
    "    #return best_individual_index_array.shape[0]\n",
    "    return getPopulationRichness(population,0.99)\n",
    "def getApparentReliability(fitness):\n",
    "    if max(fitness)>0.98:\n",
    "        return 1;\n",
    "    else:\n",
    "        return 0;\n",
    "def getPopulationRichness(population,fitness_level):\n",
    "    decimal_batch = list(set(binary2decimal_batch(population)))\n",
    "    fitness = list(map(lambda i: get_individual_fitness_decimal(i),decimal_batch))\n",
    "    best_individual_index_tuple = np.where(np.array(fitness)>fitness_level)\n",
    "    best_individual_index_array = best_individual_index_tuple[0]\n",
    "    return best_individual_index_array.shape[0]\n",
    "    "
   ]
  },
  {
   "cell_type": "code",
   "execution_count": 24,
   "metadata": {},
   "outputs": [
    {
     "name": "stderr",
     "output_type": "stream",
     "text": [
      "/Users/kismet/anaconda3/lib/python3.6/site-packages/ipykernel_launcher.py:4: RuntimeWarning: divide by zero encountered in true_divide\n",
      "  after removing the cwd from sys.path.\n"
     ]
    },
    {
     "name": "stdout",
     "output_type": "stream",
     "text": [
      "the argument is the following: \n",
      " apparent_reliability=1.0 normalized_cost=2000.0 best_output_number=6.0 \n",
      " population_richness_1_8=4.0 population_richness_2_8=7.0 \n",
      " population_richness_4_8=11.0 population_richness_7_8=11.0 \n",
      " niche_number=4.0\n"
     ]
    }
   ],
   "source": [
    "for i in [5,15,30,50,75]:\n",
    "    GENERATION = i\n",
    "    for j in [1/3,1/2,1,2,3]:\n",
    "        NICHE_ALPHA_SHARE = j\n",
    "        \n",
    "        #parameter of share function********************\n",
    "        NICHE_RADIUS = np.pi/(2*5.1*np.pi)\n",
    "        NICHE_ALPHA_SHARE = 1\n",
    "        RUNTIMES = 1\n",
    "        # Criterion*************************** \n",
    "        APPARENT_RELIABILITY = 0\n",
    "        NORMALIZED_COST = 0\n",
    "        AVERAGE_OPTIMAL_NUMBER = 0\n",
    "        POPULATION_RICHNESS = 0\n",
    "        NICHE_NUMBER = 0\n",
    "        POPULATION_RICHNESS_1_8 = 0\n",
    "        POPULATION_RICHNESS_2_8 = 0\n",
    "        POPULATION_RICHNESS_4_8 = 0\n",
    "        POPULATION_RICHNESS_7_8 = 0\n",
    "        #*************************************\n",
    "        best_output_number_all = 0\n",
    "        apparent_reliability_all = 0\n",
    "        niche_number_all = 0\n",
    "        population_richness_all = 0\n",
    "        population_richness_7_8_niche_radius_all=0\n",
    "        population_richness_4_8_niche_radius_all=0\n",
    "        population_richness_2_8_niche_radius_all=0\n",
    "        population_richness_1_8_niche_radius_all=0\n",
    "        #*************************************\n",
    "        for i in range(RUNTIMES):\n",
    "            #GENERATION = 40\n",
    "            POPULATION = 50\n",
    "            CHROME_LENGTH = 16\n",
    "            pop_size  = (POPULATION,CHROME_LENGTH)\n",
    "            parent_population = np.random.randint(0,2,pop_size)\n",
    "            BEST_OUTPUTS=[]\n",
    "            ELITIST_PERCENT = 0.8\n",
    "\n",
    "\n",
    "            for i in range(GENERATION):\n",
    "                fitness = get_population_fitness(parent_population)\n",
    "                parent_population_backup = copy.deepcopy(parent_population)\n",
    "                shareFitness = share_fitness(parent_population, fitness)\n",
    "                #BEST_OUTPUTS.append(max(fitness))\n",
    "                parents = select_mating_pool(parent_population, shareFitness, int(ELITIST_PERCENT*POPULATION))\n",
    "                offspring_crossover = crossover(parents,\n",
    "                                                offspring_size=(pop_size[0]-parents.shape[0], CHROME_LENGTH))\n",
    "                #offspring_mutation = mutation(offspring_crossover)\n",
    "                parent_population[0:parents.shape[0], :] = parents\n",
    "                #parent_population[parents.shape[0]:, :] = offspring_mutation\n",
    "                parent_population[parents.shape[0]:, :] = offspring_crossover\n",
    "\n",
    "            #matplotlib.pyplot.plot(BEST_OUTPUTS)\n",
    "            best_ouput_number_onetime = getBestOutputNumber(parent_population_backup)\n",
    "            best_output_number_all += best_ouput_number_onetime\n",
    "\n",
    "            apparent_reliability_onetime = getApparentReliability(fitness)\n",
    "            apparent_reliability_all += apparent_reliability_onetime\n",
    "\n",
    "            population_richness_1_8_niche_radius_one_time = getPopulationRichness(parent_population_backup,255/256)\n",
    "            population_richness_1_8_niche_radius_all += population_richness_1_8_niche_radius_one_time\n",
    "            population_richness_2_8_niche_radius_one_time = getPopulationRichness(parent_population_backup,252/256)\n",
    "            population_richness_2_8_niche_radius_all += population_richness_2_8_niche_radius_one_time\n",
    "            population_richness_4_8_niche_radius_one_time = getPopulationRichness(parent_population_backup,224/256)\n",
    "            population_richness_4_8_niche_radius_all += population_richness_4_8_niche_radius_one_time\n",
    "            population_richness_7_8_niche_radius_one_time = getPopulationRichness(parent_population_backup,128/256)\n",
    "            population_richness_7_8_niche_radius_all += population_richness_7_8_niche_radius_one_time\n",
    "\n",
    "            decimal_batch = binary2decimal_batch(parent_population_backup)\n",
    "            niche_number_onetime = len(delete_repeat_niche(list(set(decimal_batch))))\n",
    "            niche_number_all += niche_number_onetime\n",
    "\n",
    "        APPARENT_RELIABILITY = apparent_reliability_all/RUNTIMES\n",
    "        NORMALIZED_COST = POPULATION*GENERATION/APPARENT_RELIABILITY\n",
    "        AVERAGE_OPTIMAL_NUMBER = best_output_number_all/RUNTIMES\n",
    "        POPULATION_RICHNESS_1_8 = population_richness_1_8_niche_radius_all/RUNTIMES\n",
    "        POPULATION_RICHNESS_2_8 = population_richness_2_8_niche_radius_all/RUNTIMES\n",
    "        POPULATION_RICHNESS_4_8 = population_richness_4_8_niche_radius_all/RUNTIMES\n",
    "        POPULATION_RICHNESS_7_8 = population_richness_7_8_niche_radius_all/RUNTIMES\n",
    "        NICHE_NUMBER = niche_number_all/RUNTIMES\n",
    "        print(\"the argument is the following: \\n\",\"apparent_reliability=\"+str(APPARENT_RELIABILITY),\n",
    "              \"normalized_cost=\"+str(NORMALIZED_COST),\"best_output_number=\"+str(AVERAGE_OPTIMAL_NUMBER),\n",
    "              \"\\n population_richness_1_8=\"+str(POPULATION_RICHNESS_1_8),\n",
    "              \"population_richness_2_8=\"+str(POPULATION_RICHNESS_2_8),\n",
    "              \"\\n population_richness_4_8=\"+str(POPULATION_RICHNESS_4_8),\n",
    "              \"population_richness_7_8=\"+str(POPULATION_RICHNESS_7_8),\n",
    "              \"\\n niche_number=\"+str(NICHE_NUMBER))\n",
    "   "
   ]
  },
  {
   "cell_type": "code",
   "execution_count": 19,
   "metadata": {},
   "outputs": [
    {
     "name": "stderr",
     "output_type": "stream",
     "text": [
      "/Users/kismet/anaconda3/lib/python3.6/site-packages/ipykernel_launcher.py:4: RuntimeWarning: divide by zero encountered in true_divide\n",
      "  after removing the cwd from sys.path.\n"
     ]
    },
    {
     "data": {
      "image/png": "[encoded data removed]",
      "text/plain": [
       "<Figure size 432x288 with 1 Axes>"
      ]
     },
     "execution_count": 19,
     "metadata": {},
     "output_type": "execute_result"
    },
    {
     "data": {
      "image/png": "[encoded data removed]",
      "text/plain": [
       "<Figure size 432x288 with 1 Axes>"
      ]
     },
     "metadata": {
      "needs_background": "light"
     },
     "output_type": "display_data"
    }
   ],
   "source": [
    "#parameter of share function********************\n",
    "NICHE_RADIUS = np.pi/(2*5.1*np.pi)\n",
    "NICHE_ALPHA_SHARE = 1\n",
    "#********************\n",
    "GENERATION = 50\n",
    "POPULATION = 50\n",
    "CHROME_LENGTH = 16\n",
    "pop_size  = (POPULATION,CHROME_LENGTH)\n",
    "parent_population = np.random.randint(0,2,pop_size)\n",
    "BEST_OUTPUTS=[]\n",
    "ELITIST_PERCENT = 0.8\n",
    "\n",
    "\n",
    "for i in range(GENERATION):\n",
    "    fitness = get_population_fitness(parent_population)\n",
    "    parent_population_backup = copy.deepcopy(parent_population)\n",
    "    shareFitness = share_fitness(parent_population, fitness)\n",
    "    #BEST_OUTPUTS.append(max(fitness))\n",
    "    parents = select_mating_pool(parent_population, shareFitness, int(ELITIST_PERCENT*POPULATION))\n",
    "    offspring_crossover = crossover(parents,\n",
    "                                    offspring_size=(pop_size[0]-parents.shape[0], CHROME_LENGTH))\n",
    "    #offspring_mutation = mutation(offspring_crossover)\n",
    "    parent_population[0:parents.shape[0], :] = parents\n",
    "    #parent_population[parents.shape[0]:, :] = offspring_mutation\n",
    "    parent_population[parents.shape[0]:, :] = offspring_crossover\n",
    "    \n",
    "#matplotlib.pyplot.plot(BEST_OUTPUTS)\n",
    "#bestOuptputNumber = getBestOutputNumber(parent_population_backup)\n",
    "#print(\"bestOuptputNumber is: \",bestOuptputNumber)\n",
    "#APPARENT_RELIABILITY = getApparentReliability(fitness)\n",
    "#NORMALIZED_COST = POPULATION*GENERATION/APPARENT_RELIABILITY\n",
    "\n",
    "decimal_batch = binary2decimal_batch(parent_population_backup)\n",
    "#print(set(decimal_batch))\n",
    "#niche = delete_repeat_niche(list(set(decimal_batch)))\n",
    "#print(niche)\n",
    "#richness = getPopulationRichness(parent_population_backup,0.8)\n",
    "#print(\"richness is: \",richness)\n",
    "\n",
    "\n",
    "fig = plt.figure(111)\n",
    "axes1 = fig.add_subplot(111)\n",
    "x = np.arange(0,1,0.01)\n",
    "y = list(map(lambda i: get_individual_fitness_decimal(i),x))\n",
    "axes1.plot(x,y)\n",
    "axes1.scatter(decimal_batch,fitness)\n",
    "fig\n"
   ]
  },
  {
   "cell_type": "code",
   "execution_count": null,
   "metadata": {},
   "outputs": [],
   "source": []
  },
  {
   "cell_type": "code",
   "execution_count": null,
   "metadata": {},
   "outputs": [],
   "source": [
    "#pic1\n",
    "sigma = [0.5,0.8,1.0,1.2,1.5,2.0,3.0]\n",
    "R = [0.98,0.92,0.98,0.98,0.96,0.96,0.96]\n",
    "C = [2040,2173,2040,2040,2083,2083,2083]\n",
    "O_n = [4.64,4.56,5.10,5.32,4.80,3.94,2.08]\n",
    "P_r = [13.02,13.08,13.36,11.72,9.80,7.50,3.58]\n",
    "N_n = [5.08,5.22,5.52,5.36,4.68,4.10,2.34]\n",
    "\n",
    "fig,ax1=plt.subplots()\n",
    "\n",
    "ax1.plot(sigma,P_r,color=\"blue\",label=r'$P_r$')\n",
    "ax1.axis([0.5,3,0,15])\n",
    "ax1.set_ylabel(r'$P_r$',fontsize=14)\n",
    "plt.xlabel(r'$\\sigma$',fontsize=14)\n",
    "\n",
    "ax2 = ax1.twinx()\n",
    "ax2.plot(sigma,O_n,color=\"red\",label=r'$O_n$')\n",
    "ax2.plot(sigma,N_n,color=\"green\",label=r'$N_n$')\n",
    "ax2.axis([0.5,3,1,6])\n",
    "ax2.set_ylabel(r'$O_n$ and $N_n$',fontsize=14)\n",
    "fig.legend(loc='upper center',bbox_to_anchor=(0.8,0.85),fontsize=14)"
   ]
  },
  {
   "cell_type": "code",
   "execution_count": null,
   "metadata": {},
   "outputs": [],
   "source": [
    "#pic1\n",
    "l_step = [1.1,1.6,2.1,2.6,3.1,3.6,4.1]\n",
    "R = [0.98,0.98,0.98,1.00,0.98,0.96,0.98]\n",
    "C = [2040,2040,2040,2000,2040,2083,2040]\n",
    "O_n = [4.08,5.10,5.18,5.16,4.70,4.50,4.86]\n",
    "P_r = [12.24,13.36,12.06,10.2,9.32,8.22,8.44]\n",
    "N_n = [5.42,5.52,5.12,4.66,4.44,4.12,4.18]\n",
    "\n",
    "fig,ax1=plt.subplots()\n",
    "\n",
    "ax1.plot(sigma,P_r,color=\"blue\",label=r'$P_r$')\n",
    "#ax1.axis([0.5,3,0,15])\n",
    "ax1.set_ylabel(r'$P_r$',fontsize=14)\n",
    "plt.xlabel(r'$d_{constant}$',fontsize=14)\n",
    "\n",
    "ax2 = ax1.twinx()\n",
    "ax2.plot(sigma,O_n,color=\"red\",label=r'$O_n$')\n",
    "ax2.plot(sigma,N_n,color=\"green\",label=r'$N_n$')\n",
    "ax2.axis([0.5,3,1,6])\n",
    "ax2.set_ylabel(r'$O_n$ and $N_n$',fontsize=14)\n",
    "fig.legend(loc='upper center',bbox_to_anchor=(0.8,0.6),fontsize=14)"
   ]
  },
  {
   "cell_type": "code",
   "execution_count": null,
   "metadata": {},
   "outputs": [],
   "source": [
    "import numpy as np\n",
    "np.random.seed(4)\n"
   ]
  },
  {
   "cell_type": "code",
   "execution_count": null,
   "metadata": {},
   "outputs": [],
   "source": []
  }
 ],
 "metadata": {
  "kernelspec": {
   "display_name": "Python 3",
   "language": "python",
   "name": "python3"
  },
  "language_info": {
   "codemirror_mode": {
    "name": "ipython",
    "version": 3
   },
   "file_extension": ".py",
   "mimetype": "text/x-python",
   "name": "python",
   "nbconvert_exporter": "python",
   "pygments_lexer": "ipython3",
   "version": "3.6.8"
  }
 },
 "nbformat": 4,
 "nbformat_minor": 2
}
